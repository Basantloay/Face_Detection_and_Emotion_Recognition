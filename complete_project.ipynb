{
 "cells": [
  {
   "cell_type": "code",
   "execution_count": 53,
   "metadata": {},
   "outputs": [],
   "source": [
    "from utils import *"
   ]
  },
  {
   "cell_type": "code",
   "execution_count": 54,
   "metadata": {},
   "outputs": [
    {
     "data": {
      "text/plain": [
       "<matplotlib.image.AxesImage at 0x240129ade48>"
      ]
     },
     "execution_count": 54,
     "metadata": {},
     "output_type": "execute_result"
    },
    {
     "data": {
      "image/png": "[encoded data removed]",
      "text/plain": [
       "<Figure size 432x288 with 1 Axes>"
      ]
     },
     "metadata": {
      "needs_background": "light"
     },
     "output_type": "display_data"
    }
   ],
   "source": [
    "# cap = cv2.VideoCapture(vid_path)\n",
    "img = io.imread(\"p1.png\")\n",
    "img_gray = io.imread(\"p1.png\", as_gray=True)\n",
    "img_resized = cv2.resize(img_gray, dsize=(60, 60), interpolation=cv2.INTER_CUBIC)\n",
    "io.imshow(img_resized, cmap='gray')"
   ]
  },
  {
   "cell_type": "code",
   "execution_count": 55,
   "metadata": {},
   "outputs": [],
   "source": [
    "def ReadDataSet():\n",
    "    x = []\n",
    "    y = []\n",
    "    #read database   \n",
    "    for i in range(1,10):\n",
    "        for filename in sorted(glob.glob('./database/' + str(i) + '/*.jpg')):\n",
    "            img = cv2.imread(filename) \n",
    "            x.append(img)\n",
    "            y.append(i)\n",
    "\n",
    "    x= np.array(x)\n",
    "    y= np.array(y)\n",
    "    return x,y"
   ]
  },
  {
   "cell_type": "code",
   "execution_count": 74,
   "metadata": {},
   "outputs": [],
   "source": [
    "def readFiles(PATH, imgs, labels, label) -> None:\n",
    "    files = os.listdir(PATH)\n",
    "    num_images = len(files)\n",
    "    idx = 0\n",
    "    for f in files:\n",
    "        \n",
    "        if(idx >= 500):\n",
    "            break\n",
    "        idx += 1\n",
    "        img = io.imread(os.path.join(PATH, f), as_gray=True)\n",
    "        imgs.append(img)\n",
    "        labels.append(label)\n",
    "    "
   ]
  },
  {
   "cell_type": "code",
   "execution_count": 75,
   "metadata": {},
   "outputs": [],
   "source": [
    "HAPPY_PATH = './train/happy'\n",
    "SAD_PATH = './train/sad'\n",
    "ANGRY_PATH = './train/angry'\n",
    "imgs = []\n",
    "labels = []\n",
    "readFiles(HAPPY_PATH, imgs, labels, label='happy');"
   ]
  },
  {
   "cell_type": "code",
   "execution_count": 76,
   "metadata": {},
   "outputs": [],
   "source": [
    "readFiles(SAD_PATH, imgs, labels, label='sad')\n",
    "readFiles(ANGRY_PATH, imgs, labels, label='angry')"
   ]
  },
  {
   "cell_type": "markdown",
   "metadata": {},
   "source": [
    "## Method 2:\n",
    " LPQ + PHOG + SVM(calssifier)"
   ]
  },
  {
   "cell_type": "markdown",
   "metadata": {},
   "source": [
    "### Using PHOG & hand-made LPQ"
   ]
  },
  {
   "cell_type": "code",
   "execution_count": null,
   "metadata": {},
   "outputs": [],
   "source": [
    "samples = []\n",
    "idx = 0\n",
    "for img in imgs:\n",
    "    img_resized = cv2.resize(img, dsize=(60, 60), interpolation=cv2.INTER_CUBIC) \n",
    "    lpq = apply_LPQ(img_resized, 5)            # Appearence Features\n",
    "    lpq, _ = np.histogram(lpq, 256)\n",
    "    phog = PHOG_Algorithm(img_resized, 8, 3)   # Shape Features\n",
    "    features = np.concatenate((lpq, phog))\n",
    "    # features = phog\n",
    "    features = features.reshape((-1, 1))\n",
    "    samples.append(features)\n",
    "    idx += 1    "
   ]
  },
  {
   "cell_type": "code",
   "execution_count": 83,
   "metadata": {},
   "outputs": [
    {
     "data": {
      "text/plain": [
       "(1500, 936)"
      ]
     },
     "execution_count": 83,
     "metadata": {},
     "output_type": "execute_result"
    }
   ],
   "source": [
    "samples = np.array(samples)\n",
    "samples = samples.reshape((1500, -1))\n",
    "samples.shape"
   ]
  },
  {
   "cell_type": "code",
   "execution_count": 64,
   "metadata": {},
   "outputs": [
    {
     "data": {
      "text/plain": [
       "(300,)"
      ]
     },
     "execution_count": 64,
     "metadata": {},
     "output_type": "execute_result"
    }
   ],
   "source": [
    "\n",
    "labels = np.array(labels)\n",
    "labels[labels==\"happy\"] = 1\n",
    "labels[labels==\"sad\"] = 2\n",
    "labels[labels==\"angry\"] = 3\n",
    "labels = labels.astype('int32')\n",
    "labels.shape"
   ]
  },
  {
   "cell_type": "code",
   "execution_count": 85,
   "metadata": {},
   "outputs": [
    {
     "name": "stdout",
     "output_type": "stream",
     "text": [
      "0.6133333333333333\n"
     ]
    }
   ],
   "source": [
    "pca = PCA(n_components=300)\n",
    "features_new = pca.fit_transform(samples)\n",
    "# Get the SVC classifier\n",
    "clf = svm.SVC()\n",
    "# Train the SVC with the training data (data points and labels)\n",
    "model = clf.fit(features_new, labels)\n",
    "# pickle.dump(model, open(\"SVM.mod\", 'wb'))\n",
    "# Predict the test samples\n",
    "pred = clf.predict(features_new)\n",
    "print(np.sum(labels == pred) / 1500.0)\n"
   ]
  },
  {
   "cell_type": "code",
   "execution_count": null,
   "metadata": {},
   "outputs": [],
   "source": [
    "def process_image(img):\n",
    "    global samples\n",
    "    img_resized = cv2.resize(img, dsize=(60, 60), interpolation=cv2.INTER_CUBIC) \n",
    "    lpq = apply_LPQ(img_resized, 5)            # Appearence Features\n",
    "    lpq, _ = np.histogram(lpq, 256)\n",
    "    phog = PHOG_Algorithm(img_gray, 8, 3)   # Shape Features\n",
    "    features = np.concatenate((lpq, phog))\n",
    "    features = features.reshape((1, 936))\n",
    "    samples.append(features)"
   ]
  }
 ],
 "metadata": {
  "interpreter": {
   "hash": "5cc131d2065e73f5f824eea86391850a23cf1e693b040521d5621046c8ca9bf0"
  },
  "kernelspec": {
   "display_name": "Python 3.7.9 64-bit",
   "language": "python",
   "name": "python3"
  },
  "language_info": {
   "codemirror_mode": {
    "name": "ipython",
    "version": 3
   },
   "file_extension": ".py",
   "mimetype": "text/x-python",
   "name": "python",
   "nbconvert_exporter": "python",
   "pygments_lexer": "ipython3",
   "version": "3.7.9"
  },
  "orig_nbformat": 4
 },
 "nbformat": 4,
 "nbformat_minor": 2
}
